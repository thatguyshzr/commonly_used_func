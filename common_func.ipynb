{
 "cells": [
  {
   "cell_type": "markdown",
   "metadata": {},
   "source": [
    "## Basic functions"
   ]
  },
  {
   "cell_type": "markdown",
   "metadata": {},
   "source": [
    "### prime number"
   ]
  },
  {
   "cell_type": "code",
   "execution_count": null,
   "metadata": {},
   "outputs": [],
   "source": [
    "def prime(num):\n",
    "    '''\n",
    "    returns True if num is prime, else return False\n",
    "    -----------------------------------------------\n",
    "    Parameters:\n",
    "        num: [int, float] number to check for prime\n",
    "    -----------------------------------------------\n",
    "    Usage:\n",
    "        >>> print(prime(6))\n",
    "        output: False\n",
    "    '''\n",
    "    if isinstance(num, int):\n",
    "        if num > 1:\n",
    "            for j in range(2, num):\n",
    "                if (num%j == 0):\n",
    "                    return False\n",
    "            else:\n",
    "                return True\n",
    "    else:\n",
    "        return \"Number not an integer\"\n",
    "    \n",
    "# example\n",
    "print(prime(3))"
   ]
  },
  {
   "cell_type": "markdown",
   "metadata": {},
   "source": [
    "### odd even"
   ]
  },
  {
   "cell_type": "code",
   "execution_count": null,
   "metadata": {},
   "outputs": [],
   "source": [
    "def odd_even(num):\n",
    "    '''\n",
    "    returns \"even\" if num is even, else return \"odd\"\n",
    "    ------------------------------------------------\n",
    "    Parameters:\n",
    "        num: [int, float] number to detect odd even for\n",
    "    ------------------------------------------------\n",
    "    Usage:\n",
    "        >>> print(odd_even(4))\n",
    "        output: even\n",
    "    '''\n",
    "    if isinstance(num, int) or isinstance(num, float):\n",
    "        if num%2==0:\n",
    "            return 'even'\n",
    "        else:\n",
    "            return 'odd'\n",
    "\n",
    "    else:\n",
    "        return \"Input needs to be integer or float\"\n",
    "\n",
    "# example\n",
    "print(odd_even(123))"
   ]
  },
  {
   "cell_type": "markdown",
   "metadata": {},
   "source": [
    "### function timer"
   ]
  },
  {
   "cell_type": "code",
   "execution_count": null,
   "metadata": {},
   "outputs": [],
   "source": [
    "from time import time\n",
    "\n",
    "def timer(func):\n",
    "    '''\n",
    "    returns time taken to run the function in seconds\n",
    "    -------------------------------------------------\n",
    "    Parameters:\n",
    "        func: functions to calculate time for\n",
    "    -------------------------------------------------\n",
    "    Usage:\n",
    "        >>> def sum(a,b):\n",
    "                return a+b\n",
    "        >>> print(timer(sum(1,2)))\n",
    "        output: 0.0\n",
    "    '''\n",
    "    start= time()\n",
    "    func\n",
    "    return time()-start\n",
    "\n",
    "\n",
    "# example\n",
    "def sum(a,b):\n",
    "    return a+b\n",
    "\n",
    "print(timer(sum(1,2)))"
   ]
  },
  {
   "cell_type": "markdown",
   "metadata": {},
   "source": [
    "----------------------------------------\n",
    "## For reference"
   ]
  },
  {
   "cell_type": "markdown",
   "metadata": {},
   "source": [
    "### argument parser"
   ]
  },
  {
   "cell_type": "code",
   "execution_count": null,
   "metadata": {},
   "outputs": [],
   "source": [
    "import argparse\n",
    "\n",
    "# Create the parser and add arguments\n",
    "parser = argparse.ArgumentParser()\n",
    "# Cast the input to int \n",
    "parser.add_argument('--f', '--first', type=int, help=\"first number\",\n",
    "                    required=False, default= 2)\n",
    "parser.add_argument('--s', '--second', type=int, help=\"second number\",\n",
    "                    required=False, default= 3)\n",
    "\n",
    "# Parse and print the results\n",
    "args = parser.parse_args()\n",
    "\n",
    "def sum(a, b):\n",
    "    return a+b\n",
    "\n",
    "print('Output: ',sum(args.f, args.s))\n",
    "\n",
    "# example:\n",
    "# run in command prompt\n",
    "# >>> python file_name.py --f 3 --s 4\n",
    "# >>> python file_name.py --first 3 --second 4\n",
    "# >>> Output: 7"
   ]
  },
  {
   "cell_type": "markdown",
   "metadata": {},
   "source": [
    "### virtual env\n",
    "run in cmd"
   ]
  },
  {
   "cell_type": "code",
   "execution_count": null,
   "metadata": {},
   "outputs": [],
   "source": [
    "# create virtual environment named \"env\"\n",
    "py -m venv env\n",
    "\n",
    "# activate virtual env\n",
    ".\\env\\Scripts\\activate\n",
    "\n",
    "# deactivate virtual env\n",
    "deactivate"
   ]
  },
  {
   "cell_type": "markdown",
   "metadata": {},
   "source": [
    "### open text file"
   ]
  },
  {
   "cell_type": "code",
   "execution_count": null,
   "metadata": {},
   "outputs": [],
   "source": [
    "with open('file.txt') as f:\n",
    "    content = f.read()"
   ]
  },
  {
   "cell_type": "markdown",
   "metadata": {},
   "source": [
    "### reverse a list"
   ]
  },
  {
   "cell_type": "code",
   "execution_count": null,
   "metadata": {},
   "outputs": [],
   "source": [
    "x= [1,2,3,4,5]\n",
    "x[::-1]\n",
    "\n",
    "# [5,4,3,2,1]"
   ]
  },
  {
   "cell_type": "markdown",
   "metadata": {},
   "source": [
    "### local image to colab\n",
    "upload local image to google colab"
   ]
  },
  {
   "cell_type": "code",
   "execution_count": null,
   "metadata": {},
   "outputs": [],
   "source": [
    "def upload_files()\n",
    "    from google.colab import files\n",
    "    uploaded = files.upload()\n",
    "    for k, v in uploaded.items():\n",
    "        open(k, 'wb').write(v)\n",
    "    return list(uploaded.keys())\n",
    "\n",
    "my_images= uploaded_files"
   ]
  },
  {
   "cell_type": "markdown",
   "metadata": {},
   "source": [
    "---------------------------------------------------------------\n",
    "## Library specific functions"
   ]
  },
  {
   "cell_type": "markdown",
   "metadata": {},
   "source": [
    "### sigmoid"
   ]
  },
  {
   "cell_type": "code",
   "execution_count": null,
   "metadata": {},
   "outputs": [],
   "source": [
    "import numpy as np\n",
    "\n",
    "def sigmoid(num):\n",
    "    '''\n",
    "    return sigmoid of given number or array\n",
    "    ---------------------------------------\n",
    "    Parameters:\n",
    "        num: [int, float, numpy array]\n",
    "    ---------------------------------------\n",
    "    Usage:\n",
    "        >>> print(sigmoid(5))\n",
    "        output: 0.9933071490757153\n",
    "    '''\n",
    "    return 1/(1 + np.exp(-num))\n",
    "\n",
    "# example\n",
    "x = np.linspace(-10, 10, 10)\n",
    "print(sigmoid(x))"
   ]
  },
  {
   "cell_type": "markdown",
   "metadata": {},
   "source": [
    "### scrape site"
   ]
  },
  {
   "cell_type": "code",
   "execution_count": null,
   "metadata": {},
   "outputs": [],
   "source": [
    "# importing the libraries\n",
    "from bs4 import BeautifulSoup\n",
    "import requests\n",
    "\n",
    "def scrape_site(url, prettify= False):\n",
    "    '''\n",
    "    return 'bs4.BeautifulSoup' or str of url content\n",
    "    ------------------------------------------------\n",
    "    Parameters:\n",
    "        url: url of site to be scraped\n",
    "        prettify: [boolean] turns a Beautiful Soup parse tree into a nicely formatted\n",
    "                  Unicode string, with a separate line for each tag and each string\n",
    "                  values:\n",
    "                      True: return prettified string\n",
    "                      False: return 'bs4.BeautifulSoup' object of the url\n",
    "    ------------------------------------------------\n",
    "    Usage:\n",
    "        >>> print(scrape_site(url=\"https://en.wikipedia.org/wiki/HTML\", prettify= True))\n",
    "    '''\n",
    "\n",
    "    # Make a GET request to fetch the raw HTML content\n",
    "    html_content = requests.get(url).text\n",
    "\n",
    "    # Parse the html content\n",
    "    soup = BeautifulSoup(html_content, \"html.parser\")\n",
    "    \n",
    "    if prettify:\n",
    "        return soup.prettify()\n",
    "    else:\n",
    "        return soup\n",
    "\n",
    "# example\n",
    "print(scrap_site(url=\"https://en.wikipedia.org/wiki/HTML\", prettify= False).title.text)"
   ]
  }
 ],
 "metadata": {
  "kernelspec": {
   "display_name": "Python 3",
   "language": "python",
   "name": "python3"
  },
  "language_info": {
   "codemirror_mode": {
    "name": "ipython",
    "version": 3
   },
   "file_extension": ".py",
   "mimetype": "text/x-python",
   "name": "python",
   "nbconvert_exporter": "python",
   "pygments_lexer": "ipython3",
   "version": "3.7.5"
  }
 },
 "nbformat": 4,
 "nbformat_minor": 4
}
